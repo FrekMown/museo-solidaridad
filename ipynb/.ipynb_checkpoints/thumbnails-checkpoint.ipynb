{
 "cells": [
  {
   "cell_type": "code",
   "execution_count": 117,
   "metadata": {},
   "outputs": [],
   "source": [
    "from unidecode import unidecode\n",
    "import pandas as pd\n",
    "from PIL import Image"
   ]
  },
  {
   "cell_type": "code",
   "execution_count": 98,
   "metadata": {},
   "outputs": [],
   "source": [
    "imgnewdir2 = os.getcwd()+'/static/img_new2/'"
   ]
  },
  {
   "cell_type": "code",
   "execution_count": 108,
   "metadata": {},
   "outputs": [],
   "source": [
    "df_files2 = pd.DataFrame(columns=['folder','file', 'size'])\n",
    "for dirpath, dirnames, filenames in os.walk(imgnewdir2):\n",
    "    for file in filenames:\n",
    "        df_files2.loc[len(df_files2)] = [dirpath.split('/')[-1], file, os.path.getsize(os.path.join(dirpath, file))]"
   ]
  },
  {
   "cell_type": "code",
   "execution_count": null,
   "metadata": {},
   "outputs": [],
   "source": []
  },
  {
   "cell_type": "code",
   "execution_count": null,
   "metadata": {},
   "outputs": [],
   "source": []
  },
  {
   "cell_type": "code",
   "execution_count": null,
   "metadata": {},
   "outputs": [],
   "source": []
  },
  {
   "cell_type": "code",
   "execution_count": null,
   "metadata": {},
   "outputs": [],
   "source": []
  },
  {
   "cell_type": "code",
   "execution_count": null,
   "metadata": {},
   "outputs": [],
   "source": []
  },
  {
   "cell_type": "code",
   "execution_count": null,
   "metadata": {},
   "outputs": [],
   "source": []
  },
  {
   "cell_type": "code",
   "execution_count": null,
   "metadata": {},
   "outputs": [],
   "source": []
  },
  {
   "cell_type": "code",
   "execution_count": 115,
   "metadata": {},
   "outputs": [],
   "source": [
    "imgdir = os.getcwd()+'/static/img/'\n",
    "tmbdir = os.getcwd()+'/static/thumbnails/'\n",
    "imgnewdir = os.getcwd()+'/static/img_new/'\n",
    "imgnewdir2 = os.getcwd()+'/static/img_new2/'\n",
    "imgnewdir3 = os.getcwd()+'/static/img_new2/'"
   ]
  },
  {
   "cell_type": "code",
   "execution_count": null,
   "metadata": {},
   "outputs": [],
   "source": []
  },
  {
   "cell_type": "code",
   "execution_count": null,
   "metadata": {},
   "outputs": [],
   "source": []
  },
  {
   "cell_type": "code",
   "execution_count": null,
   "metadata": {},
   "outputs": [],
   "source": []
  },
  {
   "cell_type": "code",
   "execution_count": null,
   "metadata": {},
   "outputs": [],
   "source": []
  },
  {
   "cell_type": "code",
   "execution_count": null,
   "metadata": {},
   "outputs": [],
   "source": []
  },
  {
   "cell_type": "code",
   "execution_count": 59,
   "metadata": {},
   "outputs": [
    {
     "data": {
      "text/plain": [
       "0"
      ]
     },
     "execution_count": 59,
     "metadata": {},
     "output_type": "execute_result"
    }
   ],
   "source": [
    "os.system('mkdir '+imgnewdir2)"
   ]
  },
  {
   "cell_type": "code",
   "execution_count": 37,
   "metadata": {},
   "outputs": [],
   "source": [
    "for folder in[f for f in  os.listdir(imgdir) if '.' not in f]:\n",
    "    folder_corr = unidecode(folder).replace(' ', '_').lower()\n",
    "    if folder not in os.listdir(tmbdir):\n",
    "        os.system('mkdir '+tmbdir+folder_corr)\n",
    "    for file in [f for f in os.listdir(imgdir+folder) if 'jpg' in f]:\n",
    "        file_corr = unidecode(file).replace(' ','_').lower()\n",
    "        im = Image.open(imgdir+folder+'/'+file)\n",
    "        im.thumbnail(size)\n",
    "        im.save(tmbdir+folder_corr+'/'+file_corr)"
   ]
  },
  {
   "cell_type": "code",
   "execution_count": 47,
   "metadata": {},
   "outputs": [
    {
     "name": "stdout",
     "output_type": "stream",
     "text": [
      "obras_1\n",
      "grafica\n",
      "prensa\n",
      "cartel\n",
      "fotos\n",
      "obras\n"
     ]
    }
   ],
   "source": [
    "img_new_size = 400,400\n",
    "for folder in os.listdir(imgdir):\n",
    "    folder_corr = unidecode(folder).replace(' ', '_').lower()\n",
    "    print(folder_corr)\n",
    "    if folder_corr not in os.listdir(imgnewdir):\n",
    "        os.system('mkdir '+imgnewdir+folder_corr)\n",
    "    for file in [f for f in os.listdir(imgdir+folder) if 'jpg' in f]:\n",
    "        file_corr = unidecode(file).replace(' ','_').lower()\n",
    "        os.system('cp \"'+imgdir+folder+'/'+file+'\" '+imgnewdir+folder_corr+'/'+file_corr)    \n",
    "        im = Image.open(imgdir+folder+'/'+file)\n",
    "        im.thumbnail(img_new_size)\n",
    "        im.save(imgnewdir+folder_corr+'/'+file_corr)"
   ]
  },
  {
   "cell_type": "code",
   "execution_count": null,
   "metadata": {},
   "outputs": [],
   "source": [
    "for folder in os.listdir(imgdir):\n",
    "    folder_corr = unidecode(folder).replace(' ', '_').lower()\n",
    "    print(folder_corr)\n",
    "    if folder_corr not in os.listdir(imgnewdir):\n",
    "        os.system('mkdir '+imgnewdir+folder_corr)\n",
    "    for file in [f for f in os.listdir(imgdir+folder) if 'jpg' in f]:\n",
    "        file_corr = unidecode(file).replace(' ','_').lower()\n",
    "        os.system('cp \"'+imgdir+folder+'/'+file+'\" '+imgnewdir+folder_corr+'/'+file_corr)    \n",
    "        im = Image.open(imgdir+folder+'/'+file)\n",
    "        im.thumbnail(img_new_size)\n",
    "        im.save(imgnewdir+folder_corr+'/'+file_corr)"
   ]
  },
  {
   "cell_type": "code",
   "execution_count": 61,
   "metadata": {},
   "outputs": [],
   "source": [
    "for folder in os.listdir(imgdir):\n",
    "    folder_corr = unidecode(folder).replace(' ', '_').lower()\n",
    "    if folder_corr not in os.listdir(imgnewdir2):\n",
    "        os.system('mkdir '+imgnewdir2+folder_corr)\n",
    "    for file in [f for f in os.listdir(imgdir+folder) if 'jpg' in f]:\n",
    "        file_corr = unidecode(file).replace(' ','_').lower()\n",
    "        os.system('cp \"'+imgdir+folder+'/'+file+'\" '+imgnewdir2+folder_corr+'/'+file_corr)    "
   ]
  },
  {
   "cell_type": "code",
   "execution_count": 116,
   "metadata": {},
   "outputs": [
    {
     "data": {
      "text/plain": [
       "'/media/frek/Storage/projects/pulp/static/img_new2/'"
      ]
     },
     "execution_count": 116,
     "metadata": {},
     "output_type": "execute_result"
    }
   ],
   "source": [
    "imgnewdir2"
   ]
  },
  {
   "cell_type": "code",
   "execution_count": 120,
   "metadata": {},
   "outputs": [],
   "source": [
    "os.system('mkdir '+imgnewdir2)\n",
    "for folder in os.listdir(imgnewdir2):\n",
    "    if folder not in os.listdir(imgnewdir3):\n",
    "        os.system('mkdir '+imgnewdir3+folder)\n",
    "    for file in [f for f in os.listdir(imgnewdir2+folder) if 'jpg' in f]:\n",
    "        im = Image.open(imgnewdir2+folder+'/'+file)\n",
    "        im.thumbnail((800,800))\n",
    "        im.save(imgnewdir3+folder+'/'+file)"
   ]
  },
  {
   "cell_type": "code",
   "execution_count": 121,
   "metadata": {},
   "outputs": [
    {
     "data": {
      "text/plain": [
       "'/media/frek/Storage/projects/pulp/static/img_new2/'"
      ]
     },
     "execution_count": 121,
     "metadata": {},
     "output_type": "execute_result"
    }
   ],
   "source": [
    "imgnewdir3"
   ]
  },
  {
   "cell_type": "code",
   "execution_count": 50,
   "metadata": {},
   "outputs": [
    {
     "data": {
      "text/plain": [
       "400"
      ]
     },
     "execution_count": 50,
     "metadata": {},
     "output_type": "execute_result"
    }
   ],
   "source": [
    "im.height"
   ]
  },
  {
   "cell_type": "code",
   "execution_count": 51,
   "metadata": {},
   "outputs": [
    {
     "data": {
      "text/plain": [
       "398"
      ]
     },
     "execution_count": 51,
     "metadata": {},
     "output_type": "execute_result"
    }
   ],
   "source": [
    "im.width"
   ]
  },
  {
   "cell_type": "code",
   "execution_count": 53,
   "metadata": {},
   "outputs": [],
   "source": [
    "im = Image.open(imgnewdir+'fotos/obras_museo_allende_lodz_13_1978.jpg')"
   ]
  },
  {
   "cell_type": "code",
   "execution_count": 54,
   "metadata": {},
   "outputs": [
    {
     "data": {
      "text/plain": [
       "212"
      ]
     },
     "execution_count": 54,
     "metadata": {},
     "output_type": "execute_result"
    }
   ],
   "source": [
    "im.height"
   ]
  },
  {
   "cell_type": "code",
   "execution_count": 55,
   "metadata": {},
   "outputs": [
    {
     "data": {
      "text/plain": [
       "400"
      ]
     },
     "execution_count": 55,
     "metadata": {},
     "output_type": "execute_result"
    }
   ],
   "source": [
    "im.width"
   ]
  },
  {
   "cell_type": "code",
   "execution_count": null,
   "metadata": {},
   "outputs": [],
   "source": []
  }
 ],
 "metadata": {
  "kernelspec": {
   "display_name": "Python 3",
   "language": "python",
   "name": "python3"
  },
  "language_info": {
   "codemirror_mode": {
    "name": "ipython",
    "version": 3
   },
   "file_extension": ".py",
   "mimetype": "text/x-python",
   "name": "python",
   "nbconvert_exporter": "python",
   "pygments_lexer": "ipython3",
   "version": "3.7.4"
  }
 },
 "nbformat": 4,
 "nbformat_minor": 4
}
