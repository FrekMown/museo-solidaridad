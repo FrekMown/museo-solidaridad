{
 "cells": [
  {
   "cell_type": "code",
   "execution_count": 22,
   "metadata": {},
   "outputs": [],
   "source": [
    "from unidecode import unidecode\n",
    "import pandas as pd\n",
    "from PIL import Image\n",
    "import os\n",
    "import matplotlib.pyplot as plt\n",
    "%matplotlib inline"
   ]
  },
  {
   "cell_type": "code",
   "execution_count": 9,
   "metadata": {},
   "outputs": [
    {
     "data": {
      "text/plain": [
       "'/media/frek/Storage1/projects/museo_solidaridad/static/img_all'"
      ]
     },
     "execution_count": 9,
     "metadata": {},
     "output_type": "execute_result"
    }
   ],
   "source": [
    "imgdir = '/'.join(os.getcwd().split('/')[:-1] + ['static', 'img_all'])\n",
    "imgdir"
   ]
  },
  {
   "cell_type": "code",
   "execution_count": 60,
   "metadata": {},
   "outputs": [],
   "source": [
    "def create_df_imgs(imgdir):\n",
    "    df_imgs = pd.DataFrame()\n",
    "    imgs = {}\n",
    "    counter = 0\n",
    "    for dirpath, dirnames, filenames in os.walk(imgdir):\n",
    "        for file in [f for f in filenames if f.split('.')[-1] in ['jpg', 'jpeg', 'png']]:\n",
    "            img = Image.open(os.path.join(dirpath, file))\n",
    "            df_imgs.loc[counter, 'folder'] = dirpath.split('/')[-1]\n",
    "            df_imgs.loc[counter, 'file'] = file\n",
    "            df_imgs.loc[counter, 'size(kB)'] = os.path.getsize(os.path.join(dirpath, file))/1000\n",
    "            df_imgs.loc[counter, 'height'] = img.height\n",
    "            df_imgs.loc[counter, 'width'] = img.width\n",
    "            df_imgs.loc[counter, 'surface'] = img.height * img.width\n",
    "            imgs[counter] = img\n",
    "            counter += 1\n",
    "    return df_imgs"
   ]
  },
  {
   "cell_type": "code",
   "execution_count": 61,
   "metadata": {},
   "outputs": [],
   "source": [
    "df_imgs = create_df_imgs(imgdir)"
   ]
  },
  {
   "cell_type": "code",
   "execution_count": 62,
   "metadata": {},
   "outputs": [
    {
     "data": {
      "text/plain": [
       "372.20007"
      ]
     },
     "execution_count": 62,
     "metadata": {},
     "output_type": "execute_result"
    }
   ],
   "source": [
    "df_imgs['size(kB)'].sum()/1000"
   ]
  },
  {
   "cell_type": "code",
   "execution_count": 32,
   "metadata": {},
   "outputs": [],
   "source": [
    "## generate new name\n",
    "df_imgs['new_name'] = df_imgs['file'].apply(lambda x: unidecode(x.lower().replace(' ', '_')))"
   ]
  },
  {
   "cell_type": "code",
   "execution_count": 34,
   "metadata": {},
   "outputs": [
    {
     "data": {
      "text/html": [
       "<div>\n",
       "<style scoped>\n",
       "    .dataframe tbody tr th:only-of-type {\n",
       "        vertical-align: middle;\n",
       "    }\n",
       "\n",
       "    .dataframe tbody tr th {\n",
       "        vertical-align: top;\n",
       "    }\n",
       "\n",
       "    .dataframe thead th {\n",
       "        text-align: right;\n",
       "    }\n",
       "</style>\n",
       "<table border=\"1\" class=\"dataframe\">\n",
       "  <thead>\n",
       "    <tr style=\"text-align: right;\">\n",
       "      <th></th>\n",
       "      <th>folder</th>\n",
       "      <th>file</th>\n",
       "      <th>size(kB)</th>\n",
       "      <th>height</th>\n",
       "      <th>width</th>\n",
       "      <th>surface</th>\n",
       "      <th>new_name</th>\n",
       "    </tr>\n",
       "  </thead>\n",
       "  <tbody>\n",
       "    <tr>\n",
       "      <th>151</th>\n",
       "      <td>FOTOS</td>\n",
       "      <td>foto grupo avignon.jpg</td>\n",
       "      <td>5014.976</td>\n",
       "      <td>3422.0</td>\n",
       "      <td>6565.0</td>\n",
       "      <td>22465430.0</td>\n",
       "      <td>foto_grupo_avignon.jpg</td>\n",
       "    </tr>\n",
       "    <tr>\n",
       "      <th>129</th>\n",
       "      <td>FOTOS</td>\n",
       "      <td>foto grupo avignon_1.jpg</td>\n",
       "      <td>5653.285</td>\n",
       "      <td>3422.0</td>\n",
       "      <td>6565.0</td>\n",
       "      <td>22465430.0</td>\n",
       "      <td>foto_grupo_avignon_1.jpg</td>\n",
       "    </tr>\n",
       "    <tr>\n",
       "      <th>80</th>\n",
       "      <td>PRENSA</td>\n",
       "      <td>Las Provincias_15 sep 1978.jpg</td>\n",
       "      <td>2814.511</td>\n",
       "      <td>5202.0</td>\n",
       "      <td>3465.0</td>\n",
       "      <td>18024930.0</td>\n",
       "      <td>las_provincias_15_sep_1978.jpg</td>\n",
       "    </tr>\n",
       "    <tr>\n",
       "      <th>0</th>\n",
       "      <td>OBRAS</td>\n",
       "      <td>IMG_2351.jpg</td>\n",
       "      <td>11865.573</td>\n",
       "      <td>3456.0</td>\n",
       "      <td>5184.0</td>\n",
       "      <td>17915904.0</td>\n",
       "      <td>img_2351.jpg</td>\n",
       "    </tr>\n",
       "    <tr>\n",
       "      <th>22</th>\n",
       "      <td>OBRAS</td>\n",
       "      <td>IMG_2350.jpg</td>\n",
       "      <td>13526.584</td>\n",
       "      <td>3456.0</td>\n",
       "      <td>5184.0</td>\n",
       "      <td>17915904.0</td>\n",
       "      <td>img_2350.jpg</td>\n",
       "    </tr>\n",
       "    <tr>\n",
       "      <th>36</th>\n",
       "      <td>OBRAS</td>\n",
       "      <td>IMG_2352.jpg</td>\n",
       "      <td>11438.164</td>\n",
       "      <td>3456.0</td>\n",
       "      <td>5184.0</td>\n",
       "      <td>17915904.0</td>\n",
       "      <td>img_2352.jpg</td>\n",
       "    </tr>\n",
       "    <tr>\n",
       "      <th>33</th>\n",
       "      <td>OBRAS</td>\n",
       "      <td>IMG_2348.jpg</td>\n",
       "      <td>14425.000</td>\n",
       "      <td>3456.0</td>\n",
       "      <td>5184.0</td>\n",
       "      <td>17915904.0</td>\n",
       "      <td>img_2348.jpg</td>\n",
       "    </tr>\n",
       "    <tr>\n",
       "      <th>27</th>\n",
       "      <td>OBRAS</td>\n",
       "      <td>IMG_2349.jpg</td>\n",
       "      <td>11823.576</td>\n",
       "      <td>3456.0</td>\n",
       "      <td>5184.0</td>\n",
       "      <td>17915904.0</td>\n",
       "      <td>img_2349.jpg</td>\n",
       "    </tr>\n",
       "    <tr>\n",
       "      <th>86</th>\n",
       "      <td>PRENSA</td>\n",
       "      <td>UNESCO CUBA_MIRSA 2_1977.jpg</td>\n",
       "      <td>2921.962</td>\n",
       "      <td>5012.0</td>\n",
       "      <td>3465.0</td>\n",
       "      <td>17366580.0</td>\n",
       "      <td>unesco_cuba_mirsa_2_1977.jpg</td>\n",
       "    </tr>\n",
       "    <tr>\n",
       "      <th>130</th>\n",
       "      <td>FOTOS</td>\n",
       "      <td>IMG_3269.jpg</td>\n",
       "      <td>18128.911</td>\n",
       "      <td>3465.0</td>\n",
       "      <td>4822.0</td>\n",
       "      <td>16708230.0</td>\n",
       "      <td>img_3269.jpg</td>\n",
       "    </tr>\n",
       "  </tbody>\n",
       "</table>\n",
       "</div>"
      ],
      "text/plain": [
       "     folder                            file   size(kB)  height   width  \\\n",
       "151   FOTOS          foto grupo avignon.jpg   5014.976  3422.0  6565.0   \n",
       "129   FOTOS        foto grupo avignon_1.jpg   5653.285  3422.0  6565.0   \n",
       "80   PRENSA  Las Provincias_15 sep 1978.jpg   2814.511  5202.0  3465.0   \n",
       "0     OBRAS                    IMG_2351.jpg  11865.573  3456.0  5184.0   \n",
       "22    OBRAS                    IMG_2350.jpg  13526.584  3456.0  5184.0   \n",
       "36    OBRAS                    IMG_2352.jpg  11438.164  3456.0  5184.0   \n",
       "33    OBRAS                    IMG_2348.jpg  14425.000  3456.0  5184.0   \n",
       "27    OBRAS                    IMG_2349.jpg  11823.576  3456.0  5184.0   \n",
       "86   PRENSA    UNESCO CUBA_MIRSA 2_1977.jpg   2921.962  5012.0  3465.0   \n",
       "130   FOTOS                    IMG_3269.jpg  18128.911  3465.0  4822.0   \n",
       "\n",
       "        surface                        new_name  \n",
       "151  22465430.0          foto_grupo_avignon.jpg  \n",
       "129  22465430.0        foto_grupo_avignon_1.jpg  \n",
       "80   18024930.0  las_provincias_15_sep_1978.jpg  \n",
       "0    17915904.0                    img_2351.jpg  \n",
       "22   17915904.0                    img_2350.jpg  \n",
       "36   17915904.0                    img_2352.jpg  \n",
       "33   17915904.0                    img_2348.jpg  \n",
       "27   17915904.0                    img_2349.jpg  \n",
       "86   17366580.0    unesco_cuba_mirsa_2_1977.jpg  \n",
       "130  16708230.0                    img_3269.jpg  "
      ]
     },
     "execution_count": 34,
     "metadata": {},
     "output_type": "execute_result"
    }
   ],
   "source": [
    "df_imgs.sort_values('surface', ascending=False).head(10)"
   ]
  },
  {
   "cell_type": "code",
   "execution_count": 26,
   "metadata": {},
   "outputs": [
    {
     "data": {
      "image/png": "[encoded data removed]",
      "text/plain": [
       "<Figure size 432x288 with 2 Axes>"
      ]
     },
     "metadata": {
      "needs_background": "light"
     },
     "output_type": "display_data"
    }
   ],
   "source": [
    "for counter, dim in enumerate(['height', 'width']):\n",
    "    plt.subplot(1, 2, counter+1)\n",
    "    df_imgs[dim].hist(rwidth=0.9)\n",
    "    plt.title(dim)\n",
    "    "
   ]
  },
  {
   "cell_type": "code",
   "execution_count": null,
   "metadata": {},
   "outputs": [],
   "source": []
  },
  {
   "cell_type": "code",
   "execution_count": 30,
   "metadata": {},
   "outputs": [
    {
     "data": {
      "image/png": "[encoded data removed]",
      "text/plain": [
       "<Figure size 432x288 with 1 Axes>"
      ]
     },
     "metadata": {
      "needs_background": "light"
     },
     "output_type": "display_data"
    }
   ],
   "source": [
    "plt.scatter(x=df_imgs['width'], y=df_imgs['height'])\n",
    "plt.title('height vs width')\n",
    "plt.show()"
   ]
  },
  {
   "cell_type": "markdown",
   "metadata": {},
   "source": [
    "## Creation of df imgs new"
   ]
  },
  {
   "cell_type": "code",
   "execution_count": 56,
   "metadata": {},
   "outputs": [],
   "source": [
    "max_size = 3000\n",
    "imgout = '/'.join(imgdir.split('/')[:-1]+['img_new'])\n",
    "os.system('rm -R {imgout}'.format(imgout=imgout))\n",
    "os.system('mkdir {imgout}'.format(imgout=imgout))\n",
    "for counter in df_imgs.index:\n",
    "    filedir = imgout + '/' + df_imgs.loc[counter, 'folder'].lower()\n",
    "    os.system('mkdir '+filedir)\n",
    "    imgs[counter].thumbnail(size=(max_size, max_size))\n",
    "    imgs[counter].save(filedir+'/'+df_imgs.loc[counter, 'new_name'])"
   ]
  },
  {
   "cell_type": "code",
   "execution_count": 66,
   "metadata": {},
   "outputs": [
    {
     "name": "stdout",
     "output_type": "stream",
     "text": [
      "(164, 6)\n"
     ]
    },
    {
     "data": {
      "text/html": [
       "<div>\n",
       "<style scoped>\n",
       "    .dataframe tbody tr th:only-of-type {\n",
       "        vertical-align: middle;\n",
       "    }\n",
       "\n",
       "    .dataframe tbody tr th {\n",
       "        vertical-align: top;\n",
       "    }\n",
       "\n",
       "    .dataframe thead th {\n",
       "        text-align: right;\n",
       "    }\n",
       "</style>\n",
       "<table border=\"1\" class=\"dataframe\">\n",
       "  <thead>\n",
       "    <tr style=\"text-align: right;\">\n",
       "      <th></th>\n",
       "      <th>folder</th>\n",
       "      <th>file</th>\n",
       "      <th>size(kB)</th>\n",
       "      <th>height</th>\n",
       "      <th>width</th>\n",
       "      <th>surface</th>\n",
       "    </tr>\n",
       "  </thead>\n",
       "  <tbody>\n",
       "    <tr>\n",
       "      <th>0</th>\n",
       "      <td>fotos</td>\n",
       "      <td>diapo_suecia.jpg</td>\n",
       "      <td>707.426</td>\n",
       "      <td>1425.0</td>\n",
       "      <td>3000.0</td>\n",
       "      <td>4275000.0</td>\n",
       "    </tr>\n",
       "    <tr>\n",
       "      <th>1</th>\n",
       "      <td>fotos</td>\n",
       "      <td>obras_museo_allende_lodz_13_1978.jpg</td>\n",
       "      <td>18.741</td>\n",
       "      <td>265.0</td>\n",
       "      <td>500.0</td>\n",
       "      <td>132500.0</td>\n",
       "    </tr>\n",
       "    <tr>\n",
       "      <th>2</th>\n",
       "      <td>fotos</td>\n",
       "      <td>mario_pedrosa_y_allende_1972_mssa.jpg</td>\n",
       "      <td>17.666</td>\n",
       "      <td>209.0</td>\n",
       "      <td>300.0</td>\n",
       "      <td>62700.0</td>\n",
       "    </tr>\n",
       "    <tr>\n",
       "      <th>3</th>\n",
       "      <td>fotos</td>\n",
       "      <td>cortazar_museo_allende_lodz_3_1978.jpg</td>\n",
       "      <td>36.248</td>\n",
       "      <td>364.0</td>\n",
       "      <td>500.0</td>\n",
       "      <td>182000.0</td>\n",
       "    </tr>\n",
       "    <tr>\n",
       "      <th>4</th>\n",
       "      <td>fotos</td>\n",
       "      <td>grupo_museo_de_la_resistencia_1977_avignon_2.jpg</td>\n",
       "      <td>59.421</td>\n",
       "      <td>480.0</td>\n",
       "      <td>720.0</td>\n",
       "      <td>345600.0</td>\n",
       "    </tr>\n",
       "  </tbody>\n",
       "</table>\n",
       "</div>"
      ],
      "text/plain": [
       "  folder                                              file  size(kB)  height  \\\n",
       "0  fotos                                  diapo_suecia.jpg   707.426  1425.0   \n",
       "1  fotos              obras_museo_allende_lodz_13_1978.jpg    18.741   265.0   \n",
       "2  fotos             mario_pedrosa_y_allende_1972_mssa.jpg    17.666   209.0   \n",
       "3  fotos            cortazar_museo_allende_lodz_3_1978.jpg    36.248   364.0   \n",
       "4  fotos  grupo_museo_de_la_resistencia_1977_avignon_2.jpg    59.421   480.0   \n",
       "\n",
       "    width    surface  \n",
       "0  3000.0  4275000.0  \n",
       "1   500.0   132500.0  \n",
       "2   300.0    62700.0  \n",
       "3   500.0   182000.0  \n",
       "4   720.0   345600.0  "
      ]
     },
     "execution_count": 66,
     "metadata": {},
     "output_type": "execute_result"
    }
   ],
   "source": [
    "df_imgs2 = create_df_imgs(imgout)\n",
    "print(df_imgs2.shape)\n",
    "df_imgs2.head()"
   ]
  },
  {
   "cell_type": "code",
   "execution_count": 67,
   "metadata": {},
   "outputs": [
    {
     "data": {
      "text/plain": [
       "60.350770000000004"
      ]
     },
     "execution_count": 67,
     "metadata": {},
     "output_type": "execute_result"
    }
   ],
   "source": [
    "df_imgs2['size(kB)'].sum()/1000"
   ]
  },
  {
   "cell_type": "code",
   "execution_count": 68,
   "metadata": {},
   "outputs": [],
   "source": [
    "df_imgs2.sort_values('surface', ascending=False).to_csv(os.getcwd()+'/df_imgs2.csv')"
   ]
  },
  {
   "cell_type": "code",
   "execution_count": null,
   "metadata": {},
   "outputs": [],
   "source": []
  },
  {
   "cell_type": "code",
   "execution_count": null,
   "metadata": {},
   "outputs": [],
   "source": []
  },
  {
   "cell_type": "code",
   "execution_count": null,
   "metadata": {},
   "outputs": [],
   "source": []
  },
  {
   "cell_type": "code",
   "execution_count": null,
   "metadata": {},
   "outputs": [],
   "source": []
  },
  {
   "cell_type": "code",
   "execution_count": 37,
   "metadata": {},
   "outputs": [],
   "source": [
    "for folder in[f for f in  os.listdir(imgdir) if '.' not in f]:\n",
    "    folder_corr = unidecode(folder).replace(' ', '_').lower()\n",
    "    if folder not in os.listdir(tmbdir):\n",
    "        os.system('mkdir '+tmbdir+folder_corr)\n",
    "    for file in [f for f in os.listdir(imgdir+folder) if 'jpg' in f]:\n",
    "        file_corr = unidecode(file).replace(' ','_').lower()\n",
    "        im = Image.open(imgdir+folder+'/'+file)\n",
    "        im.thumbnail(size)\n",
    "        im.save(tmbdir+folder_corr+'/'+file_corr)"
   ]
  },
  {
   "cell_type": "code",
   "execution_count": 47,
   "metadata": {},
   "outputs": [
    {
     "name": "stdout",
     "output_type": "stream",
     "text": [
      "obras_1\n",
      "grafica\n",
      "prensa\n",
      "cartel\n",
      "fotos\n",
      "obras\n"
     ]
    }
   ],
   "source": [
    "img_new_size = 400,400\n",
    "for folder in os.listdir(imgdir):\n",
    "    folder_corr = unidecode(folder).replace(' ', '_').lower()\n",
    "    print(folder_corr)\n",
    "    if folder_corr not in os.listdir(imgnewdir):\n",
    "        os.system('mkdir '+imgnewdir+folder_corr)\n",
    "    for file in [f for f in os.listdir(imgdir+folder) if 'jpg' in f]:\n",
    "        file_corr = unidecode(file).replace(' ','_').lower()\n",
    "        os.system('cp \"'+imgdir+folder+'/'+file+'\" '+imgnewdir+folder_corr+'/'+file_corr)    \n",
    "        im = Image.open(imgdir+folder+'/'+file)\n",
    "        im.thumbnail(img_new_size)\n",
    "        im.save(imgnewdir+folder_corr+'/'+file_corr)"
   ]
  },
  {
   "cell_type": "code",
   "execution_count": null,
   "metadata": {},
   "outputs": [],
   "source": [
    "for folder in os.listdir(imgdir):\n",
    "    folder_corr = unidecode(folder).replace(' ', '_').lower()\n",
    "    print(folder_corr)\n",
    "    if folder_corr not in os.listdir(imgnewdir):\n",
    "        os.system('mkdir '+imgnewdir+folder_corr)\n",
    "    for file in [f for f in os.listdir(imgdir+folder) if 'jpg' in f]:\n",
    "        file_corr = unidecode(file).replace(' ','_').lower()\n",
    "        os.system('cp \"'+imgdir+folder+'/'+file+'\" '+imgnewdir+folder_corr+'/'+file_corr)    \n",
    "        im = Image.open(imgdir+folder+'/'+file)\n",
    "        im.thumbnail(img_new_size)\n",
    "        im.save(imgnewdir+folder_corr+'/'+file_corr)"
   ]
  },
  {
   "cell_type": "code",
   "execution_count": 61,
   "metadata": {},
   "outputs": [],
   "source": [
    "for folder in os.listdir(imgdir):\n",
    "    folder_corr = unidecode(folder).replace(' ', '_').lower()\n",
    "    if folder_corr not in os.listdir(imgnewdir2):\n",
    "        os.system('mkdir '+imgnewdir2+folder_corr)\n",
    "    for file in [f for f in os.listdir(imgdir+folder) if 'jpg' in f]:\n",
    "        file_corr = unidecode(file).replace(' ','_').lower()\n",
    "        os.system('cp \"'+imgdir+folder+'/'+file+'\" '+imgnewdir2+folder_corr+'/'+file_corr)    "
   ]
  },
  {
   "cell_type": "code",
   "execution_count": 116,
   "metadata": {},
   "outputs": [
    {
     "data": {
      "text/plain": [
       "'/media/frek/Storage/projects/pulp/static/img_new2/'"
      ]
     },
     "execution_count": 116,
     "metadata": {},
     "output_type": "execute_result"
    }
   ],
   "source": [
    "imgnewdir2"
   ]
  },
  {
   "cell_type": "code",
   "execution_count": 120,
   "metadata": {},
   "outputs": [],
   "source": [
    "os.system('mkdir '+imgnewdir2)\n",
    "for folder in os.listdir(imgnewdir2):\n",
    "    if folder not in os.listdir(imgnewdir3):\n",
    "        os.system('mkdir '+imgnewdir3+folder)\n",
    "    for file in [f for f in os.listdir(imgnewdir2+folder) if 'jpg' in f]:\n",
    "        im = Image.open(imgnewdir2+folder+'/'+file)\n",
    "        im.thumbnail((800,800))\n",
    "        im.save(imgnewdir3+folder+'/'+file)"
   ]
  },
  {
   "cell_type": "code",
   "execution_count": 121,
   "metadata": {},
   "outputs": [
    {
     "data": {
      "text/plain": [
       "'/media/frek/Storage/projects/pulp/static/img_new2/'"
      ]
     },
     "execution_count": 121,
     "metadata": {},
     "output_type": "execute_result"
    }
   ],
   "source": [
    "imgnewdir3"
   ]
  },
  {
   "cell_type": "code",
   "execution_count": 50,
   "metadata": {},
   "outputs": [
    {
     "data": {
      "text/plain": [
       "400"
      ]
     },
     "execution_count": 50,
     "metadata": {},
     "output_type": "execute_result"
    }
   ],
   "source": [
    "im.height"
   ]
  },
  {
   "cell_type": "code",
   "execution_count": 51,
   "metadata": {},
   "outputs": [
    {
     "data": {
      "text/plain": [
       "398"
      ]
     },
     "execution_count": 51,
     "metadata": {},
     "output_type": "execute_result"
    }
   ],
   "source": [
    "im.width"
   ]
  },
  {
   "cell_type": "code",
   "execution_count": 53,
   "metadata": {},
   "outputs": [],
   "source": [
    "im = Image.open(imgnewdir+'fotos/obras_museo_allende_lodz_13_1978.jpg')"
   ]
  },
  {
   "cell_type": "code",
   "execution_count": 54,
   "metadata": {},
   "outputs": [
    {
     "data": {
      "text/plain": [
       "212"
      ]
     },
     "execution_count": 54,
     "metadata": {},
     "output_type": "execute_result"
    }
   ],
   "source": [
    "im.height"
   ]
  },
  {
   "cell_type": "code",
   "execution_count": 55,
   "metadata": {},
   "outputs": [
    {
     "data": {
      "text/plain": [
       "400"
      ]
     },
     "execution_count": 55,
     "metadata": {},
     "output_type": "execute_result"
    }
   ],
   "source": [
    "im.width"
   ]
  },
  {
   "cell_type": "code",
   "execution_count": null,
   "metadata": {},
   "outputs": [],
   "source": []
  }
 ],
 "metadata": {
  "kernelspec": {
   "display_name": "Python 3",
   "language": "python",
   "name": "python3"
  },
  "language_info": {
   "codemirror_mode": {
    "name": "ipython",
    "version": 3
   },
   "file_extension": ".py",
   "mimetype": "text/x-python",
   "name": "python",
   "nbconvert_exporter": "python",
   "pygments_lexer": "ipython3",
   "version": "3.7.4"
  }
 },
 "nbformat": 4,
 "nbformat_minor": 4
}
