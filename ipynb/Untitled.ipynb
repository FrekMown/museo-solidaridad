{
 "cells": [
  {
   "cell_type": "code",
   "execution_count": 4,
   "metadata": {},
   "outputs": [],
   "source": [
    "import pandas as pd\n",
    "import os"
   ]
  },
  {
   "cell_type": "code",
   "execution_count": 9,
   "metadata": {},
   "outputs": [],
   "source": [
    "STATIC_DIR = '/'.join(os.getcwd().split('/')[:-1]+['static'])"
   ]
  },
  {
   "cell_type": "code",
   "execution_count": 29,
   "metadata": {},
   "outputs": [],
   "source": [
    "def get_parallax_pics():\n",
    "    df_imgs = pd.read_csv(os.path.join(STATIC_DIR, 'df_imgs2.csv'), index_col=0).dropna(subset=['parallax'])\n",
    "    return [os.path.join(STATIC_DIR, df_imgs.loc[idx, 'folder'], df_imgs.loc[idx, 'file']) for idx in df_imgs.index]\n",
    "def get_gallery_pics():\n",
    "    df_imgs = pd.read_csv(os.path.join(STATIC_DIR, 'df_imgs2.csv'), index_col=0).dropna(subset=['include'])\n",
    "    return df_imgs[['folder','file']].groupby('folder')['file'].apply(list).to_dict()"
   ]
  },
  {
   "cell_type": "code",
   "execution_count": 30,
   "metadata": {},
   "outputs": [
    {
     "data": {
      "text/plain": [
       "['/media/frek/Storage1/projects/museo_solidaridad/static/obras/vv.jpg',\n",
       " '/media/frek/Storage1/projects/museo_solidaridad/static/obras/torres_1.jpg',\n",
       " '/media/frek/Storage1/projects/museo_solidaridad/static/fotos/img_3268.jpg',\n",
       " '/media/frek/Storage1/projects/museo_solidaridad/static/grafica/portada_diptico_expo_colegio_de_arquitectos_de_canarias_1978.jpg',\n",
       " '/media/frek/Storage1/projects/museo_solidaridad/static/fotos/img_3270.jpg']"
      ]
     },
     "execution_count": 30,
     "metadata": {},
     "output_type": "execute_result"
    }
   ],
   "source": [
    "get_parallax_pics()"
   ]
  },
  {
   "cell_type": "code",
   "execution_count": 44,
   "metadata": {},
   "outputs": [],
   "source": []
  },
  {
   "cell_type": "code",
   "execution_count": 46,
   "metadata": {},
   "outputs": [
    {
     "data": {
      "text/plain": [
       "dict_keys(['cartel', 'fotos', 'obras', 'prensa'])"
      ]
     },
     "execution_count": 46,
     "metadata": {},
     "output_type": "execute_result"
    }
   ],
   "source": [
    "get_gallery_pics().keys()"
   ]
  },
  {
   "cell_type": "code",
   "execution_count": null,
   "metadata": {},
   "outputs": [],
   "source": []
  }
 ],
 "metadata": {
  "kernelspec": {
   "display_name": "Python 3",
   "language": "python",
   "name": "python3"
  },
  "language_info": {
   "codemirror_mode": {
    "name": "ipython",
    "version": 3
   },
   "file_extension": ".py",
   "mimetype": "text/x-python",
   "name": "python",
   "nbconvert_exporter": "python",
   "pygments_lexer": "ipython3",
   "version": "3.7.4"
  }
 },
 "nbformat": 4,
 "nbformat_minor": 4
}
